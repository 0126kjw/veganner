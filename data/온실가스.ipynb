{
 "cells": [
  {
   "cell_type": "code",
   "execution_count": 1,
   "metadata": {},
   "outputs": [],
   "source": [
    "import pandas as pd\n",
    "import matplotlib.pyplot as plt\n",
    "pd.set_option('display.max_seq_items', None)"
   ]
  },
  {
   "cell_type": "code",
   "execution_count": 2,
   "metadata": {},
   "outputs": [],
   "source": [
    "data = pd.read_csv(\"온실가스 배출량.csv\")"
   ]
  },
  {
   "cell_type": "code",
   "execution_count": 3,
   "metadata": {},
   "outputs": [
    {
     "data": {
      "text/html": [
       "<div>\n",
       "<style scoped>\n",
       "    .dataframe tbody tr th:only-of-type {\n",
       "        vertical-align: middle;\n",
       "    }\n",
       "\n",
       "    .dataframe tbody tr th {\n",
       "        vertical-align: top;\n",
       "    }\n",
       "\n",
       "    .dataframe thead th {\n",
       "        text-align: right;\n",
       "    }\n",
       "</style>\n",
       "<table border=\"1\" class=\"dataframe\">\n",
       "  <thead>\n",
       "    <tr style=\"text-align: right;\">\n",
       "      <th></th>\n",
       "      <th>시점</th>\n",
       "      <th>아시아</th>\n",
       "      <th>대한민국</th>\n",
       "      <th>아제르바이잔</th>\n",
       "      <th>바레인</th>\n",
       "      <th>방글라데시</th>\n",
       "      <th>브루나이</th>\n",
       "      <th>중국</th>\n",
       "      <th>인도</th>\n",
       "      <th>인도네시아</th>\n",
       "      <th>...</th>\n",
       "      <th>세네갈</th>\n",
       "      <th>남아프리카공화국</th>\n",
       "      <th>남수단</th>\n",
       "      <th>수단</th>\n",
       "      <th>탄자니아</th>\n",
       "      <th>토고</th>\n",
       "      <th>튀니지</th>\n",
       "      <th>오세아니아</th>\n",
       "      <th>오스트레일리아</th>\n",
       "      <th>뉴질랜드</th>\n",
       "    </tr>\n",
       "  </thead>\n",
       "  <tbody>\n",
       "    <tr>\n",
       "      <th>0</th>\n",
       "      <td>1990</td>\n",
       "      <td>NaN</td>\n",
       "      <td>237.9</td>\n",
       "      <td>92.1</td>\n",
       "      <td>13.0</td>\n",
       "      <td>15.7</td>\n",
       "      <td>4.5</td>\n",
       "      <td>2395.1</td>\n",
       "      <td>602.0</td>\n",
       "      <td>176.9</td>\n",
       "      <td>...</td>\n",
       "      <td>2.3</td>\n",
       "      <td>273.9</td>\n",
       "      <td>NaN</td>\n",
       "      <td>6.6</td>\n",
       "      <td>3.6</td>\n",
       "      <td>0.8</td>\n",
       "      <td>14.9</td>\n",
       "      <td>NaN</td>\n",
       "      <td>278.2</td>\n",
       "      <td>23.2</td>\n",
       "    </tr>\n",
       "    <tr>\n",
       "      <th>1</th>\n",
       "      <td>1991</td>\n",
       "      <td>NaN</td>\n",
       "      <td>261.3</td>\n",
       "      <td>88.0</td>\n",
       "      <td>12.5</td>\n",
       "      <td>15.0</td>\n",
       "      <td>4.7</td>\n",
       "      <td>2512.6</td>\n",
       "      <td>645.2</td>\n",
       "      <td>192.3</td>\n",
       "      <td>...</td>\n",
       "      <td>2.3</td>\n",
       "      <td>269.2</td>\n",
       "      <td>NaN</td>\n",
       "      <td>6.0</td>\n",
       "      <td>3.6</td>\n",
       "      <td>0.8</td>\n",
       "      <td>15.1</td>\n",
       "      <td>NaN</td>\n",
       "      <td>280.3</td>\n",
       "      <td>23.6</td>\n",
       "    </tr>\n",
       "    <tr>\n",
       "      <th>2</th>\n",
       "      <td>1992</td>\n",
       "      <td>NaN</td>\n",
       "      <td>280.7</td>\n",
       "      <td>75.0</td>\n",
       "      <td>14.6</td>\n",
       "      <td>16.3</td>\n",
       "      <td>5.0</td>\n",
       "      <td>2614.0</td>\n",
       "      <td>662.0</td>\n",
       "      <td>201.7</td>\n",
       "      <td>...</td>\n",
       "      <td>2.5</td>\n",
       "      <td>265.4</td>\n",
       "      <td>NaN</td>\n",
       "      <td>5.7</td>\n",
       "      <td>3.7</td>\n",
       "      <td>0.6</td>\n",
       "      <td>16.5</td>\n",
       "      <td>NaN</td>\n",
       "      <td>284.8</td>\n",
       "      <td>25.4</td>\n",
       "    </tr>\n",
       "    <tr>\n",
       "      <th>3</th>\n",
       "      <td>1993</td>\n",
       "      <td>NaN</td>\n",
       "      <td>307.4</td>\n",
       "      <td>54.8</td>\n",
       "      <td>15.5</td>\n",
       "      <td>17.3</td>\n",
       "      <td>5.4</td>\n",
       "      <td>2830.8</td>\n",
       "      <td>685.7</td>\n",
       "      <td>215.3</td>\n",
       "      <td>...</td>\n",
       "      <td>2.5</td>\n",
       "      <td>275.3</td>\n",
       "      <td>NaN</td>\n",
       "      <td>4.4</td>\n",
       "      <td>3.9</td>\n",
       "      <td>0.5</td>\n",
       "      <td>16.4</td>\n",
       "      <td>NaN</td>\n",
       "      <td>290.0</td>\n",
       "      <td>25.0</td>\n",
       "    </tr>\n",
       "    <tr>\n",
       "      <th>4</th>\n",
       "      <td>1994</td>\n",
       "      <td>NaN</td>\n",
       "      <td>331.7</td>\n",
       "      <td>35.8</td>\n",
       "      <td>15.9</td>\n",
       "      <td>18.4</td>\n",
       "      <td>5.7</td>\n",
       "      <td>2935.9</td>\n",
       "      <td>718.9</td>\n",
       "      <td>229.5</td>\n",
       "      <td>...</td>\n",
       "      <td>2.5</td>\n",
       "      <td>281.8</td>\n",
       "      <td>NaN</td>\n",
       "      <td>6.2</td>\n",
       "      <td>4.7</td>\n",
       "      <td>0.8</td>\n",
       "      <td>16.1</td>\n",
       "      <td>NaN</td>\n",
       "      <td>296.6</td>\n",
       "      <td>25.1</td>\n",
       "    </tr>\n",
       "  </tbody>\n",
       "</table>\n",
       "<p>5 rows × 94 columns</p>\n",
       "</div>"
      ],
      "text/plain": [
       "     시점  아시아   대한민국  아제르바이잔   바레인  방글라데시  브루나이      중국     인도  인도네시아  ...  \\\n",
       "0  1990  NaN  237.9    92.1  13.0   15.7   4.5  2395.1  602.0  176.9  ...   \n",
       "1  1991  NaN  261.3    88.0  12.5   15.0   4.7  2512.6  645.2  192.3  ...   \n",
       "2  1992  NaN  280.7    75.0  14.6   16.3   5.0  2614.0  662.0  201.7  ...   \n",
       "3  1993  NaN  307.4    54.8  15.5   17.3   5.4  2830.8  685.7  215.3  ...   \n",
       "4  1994  NaN  331.7    35.8  15.9   18.4   5.7  2935.9  718.9  229.5  ...   \n",
       "\n",
       "   세네갈  남아프리카공화국  남수단   수단  탄자니아   토고   튀니지  오세아니아  오스트레일리아  뉴질랜드  \n",
       "0  2.3     273.9  NaN  6.6   3.6  0.8  14.9    NaN    278.2  23.2  \n",
       "1  2.3     269.2  NaN  6.0   3.6  0.8  15.1    NaN    280.3  23.6  \n",
       "2  2.5     265.4  NaN  5.7   3.7  0.6  16.5    NaN    284.8  25.4  \n",
       "3  2.5     275.3  NaN  4.4   3.9  0.5  16.4    NaN    290.0  25.0  \n",
       "4  2.5     281.8  NaN  6.2   4.7  0.8  16.1    NaN    296.6  25.1  \n",
       "\n",
       "[5 rows x 94 columns]"
      ]
     },
     "execution_count": 3,
     "metadata": {},
     "output_type": "execute_result"
    }
   ],
   "source": [
    "data.head()"
   ]
  },
  {
   "cell_type": "code",
   "execution_count": 4,
   "metadata": {},
   "outputs": [
    {
     "data": {
      "text/plain": [
       "Index(['시점', '아시아', '대한민국', '아제르바이잔', '바레인', '방글라데시', '브루나이', '중국', '인도',\n",
       "       '인도네시아', '이란', '이라크', '이스라엘', '일본', '요르단', '카자흐스탄', '쿠웨이트', '레바논',\n",
       "       '말레이시아', '오만', '파키스탄', '필리핀', '카타르', '사우디아라비아', '시리아', '태국', '투르크메니스탄',\n",
       "       '아랍에미리트', '우즈베키스탄', '베트남', '예멘', '북아메리카', '캐나다', '멕시코', '미국', '남아메리카',\n",
       "       '아르헨티나', '볼리비아', '브라질', '칠레', '콜롬비아', '쿠바', '에콰도르', '파라과이', '페루',\n",
       "       '트리니다드토바고', '우루과이', '베네수엘라', '유럽', '덴마크', '에스토니아', '프랑스', '독일', '이탈리아',\n",
       "       '네덜란드', '노르웨이', '폴란드', '루마니아', '러시아', '슬로베니아', '스웨덴', '우크라이나', '영국',\n",
       "       '아프리카', '알제리', '앙골라', '베냉', '보츠와나', '카메룬', '콩고', '콩고민주공화국', '코트디부아르',\n",
       "       '이집트', '에리트레아', '에티오피아', '가봉', '가나', '케냐', '리비아', '모로코', '모잠비크', '나미비아',\n",
       "       '니제르', '나이지리아', '세네갈', '남아프리카공화국', '남수단', '수단', '탄자니아', '토고', '튀니지',\n",
       "       '오세아니아', '오스트레일리아', '뉴질랜드'],\n",
       "      dtype='object')"
      ]
     },
     "execution_count": 4,
     "metadata": {},
     "output_type": "execute_result"
    }
   ],
   "source": [
    "data.columns"
   ]
  },
  {
   "cell_type": "code",
   "execution_count": 5,
   "metadata": {},
   "outputs": [
    {
     "name": "stdout",
     "output_type": "stream",
     "text": [
      "<class 'pandas.core.frame.DataFrame'>\n",
      "RangeIndex: 31 entries, 0 to 30\n",
      "Data columns (total 94 columns):\n",
      " #   Column    Non-Null Count  Dtype  \n",
      "---  ------    --------------  -----  \n",
      " 0   시점        31 non-null     int64  \n",
      " 1   아시아       0 non-null      float64\n",
      " 2   대한민국      31 non-null     float64\n",
      " 3   아제르바이잔    31 non-null     float64\n",
      " 4   바레인       30 non-null     float64\n",
      " 5   방글라데시     30 non-null     float64\n",
      " 6   브루나이      30 non-null     float64\n",
      " 7   중국        30 non-null     float64\n",
      " 8   인도        30 non-null     float64\n",
      " 9   인도네시아     31 non-null     float64\n",
      " 10  이란        30 non-null     float64\n",
      " 11  이라크       30 non-null     float64\n",
      " 12  이스라엘      31 non-null     float64\n",
      " 13  일본        31 non-null     float64\n",
      " 14  요르단       30 non-null     float64\n",
      " 15  카자흐스탄     30 non-null     float64\n",
      " 16  쿠웨이트      30 non-null     float64\n",
      " 17  레바논       30 non-null     float64\n",
      " 18  말레이시아     30 non-null     float64\n",
      " 19  오만        30 non-null     float64\n",
      " 20  파키스탄      30 non-null     float64\n",
      " 21  필리핀       30 non-null     float64\n",
      " 22  카타르       30 non-null     float64\n",
      " 23  사우디아라비아   30 non-null     float64\n",
      " 24  시리아       30 non-null     float64\n",
      " 25  태국        30 non-null     float64\n",
      " 26  투르크메니스탄   30 non-null     float64\n",
      " 27  아랍에미리트    30 non-null     float64\n",
      " 28  우즈베키스탄    30 non-null     float64\n",
      " 29  베트남       30 non-null     float64\n",
      " 30  예멘        30 non-null     float64\n",
      " 31  북아메리카     0 non-null      float64\n",
      " 32  캐나다       31 non-null     float64\n",
      " 33  멕시코       31 non-null     float64\n",
      " 34  미국        31 non-null     float64\n",
      " 35  남아메리카     0 non-null      float64\n",
      " 36  아르헨티나     31 non-null     float64\n",
      " 37  볼리비아      30 non-null     float64\n",
      " 38  브라질       31 non-null     float64\n",
      " 39  칠레        31 non-null     float64\n",
      " 40  콜롬비아      31 non-null     float64\n",
      " 41  쿠바        30 non-null     float64\n",
      " 42  에콰도르      30 non-null     float64\n",
      " 43  파라과이      30 non-null     float64\n",
      " 44  페루        30 non-null     float64\n",
      " 45  트리니다드토바고  30 non-null     float64\n",
      " 46  우루과이      31 non-null     float64\n",
      " 47  베네수엘라     30 non-null     float64\n",
      " 48  유럽        0 non-null      float64\n",
      " 49  덴마크       31 non-null     float64\n",
      " 50  에스토니아     31 non-null     float64\n",
      " 51  프랑스       31 non-null     float64\n",
      " 52  독일        31 non-null     float64\n",
      " 53  이탈리아      31 non-null     float64\n",
      " 54  네덜란드      31 non-null     float64\n",
      " 55  노르웨이      31 non-null     float64\n",
      " 56  폴란드       31 non-null     float64\n",
      " 57  루마니아      31 non-null     float64\n",
      " 58  러시아       31 non-null     float64\n",
      " 59  슬로베니아     31 non-null     float64\n",
      " 60  스웨덴       31 non-null     float64\n",
      " 61  우크라이나     31 non-null     float64\n",
      " 62  영국        31 non-null     float64\n",
      " 63  아프리카      0 non-null      float64\n",
      " 64  알제리       30 non-null     float64\n",
      " 65  앙골라       30 non-null     float64\n",
      " 66  베냉        31 non-null     float64\n",
      " 67  보츠와나      30 non-null     float64\n",
      " 68  카메룬       30 non-null     float64\n",
      " 69  콩고        30 non-null     float64\n",
      " 70  콩고민주공화국   30 non-null     float64\n",
      " 71  코트디부아르    30 non-null     float64\n",
      " 72  이집트       30 non-null     float64\n",
      " 73  에리트레아     28 non-null     float64\n",
      " 74  에티오피아     30 non-null     float64\n",
      " 75  가봉        30 non-null     float64\n",
      " 76  가나        31 non-null     float64\n",
      " 77  케냐        30 non-null     float64\n",
      " 78  리비아       30 non-null     float64\n",
      " 79  모로코       31 non-null     float64\n",
      " 80  모잠비크      30 non-null     float64\n",
      " 81  나미비아      29 non-null     float64\n",
      " 82  니제르       30 non-null     float64\n",
      " 83  나이지리아     30 non-null     float64\n",
      " 84  세네갈       30 non-null     float64\n",
      " 85  남아프리카공화국  30 non-null     float64\n",
      " 86  남수단       8 non-null      float64\n",
      " 87  수단        30 non-null     float64\n",
      " 88  탄자니아      30 non-null     float64\n",
      " 89  토고        30 non-null     float64\n",
      " 90  튀니지       30 non-null     float64\n",
      " 91  오세아니아     0 non-null      float64\n",
      " 92  오스트레일리아   31 non-null     float64\n",
      " 93  뉴질랜드      31 non-null     float64\n",
      "dtypes: float64(93), int64(1)\n",
      "memory usage: 22.9 KB\n"
     ]
    }
   ],
   "source": [
    "data.info()"
   ]
  },
  {
   "cell_type": "code",
   "execution_count": 6,
   "metadata": {},
   "outputs": [
    {
     "data": {
      "text/plain": [
       "30    61\n",
       "dtype: int64"
      ]
     },
     "execution_count": 6,
     "metadata": {},
     "output_type": "execute_result"
    }
   ],
   "source": [
    "data[data['시점']==2020].T.isnull().sum()"
   ]
  },
  {
   "cell_type": "markdown",
   "metadata": {},
   "source": [
    "2020년의 경우 없는 자료가 매우 많기 때문에 분석에서는 제외하고 진행한다."
   ]
  },
  {
   "cell_type": "code",
   "execution_count": 7,
   "metadata": {},
   "outputs": [
    {
     "data": {
      "text/plain": [
       "0     1990\n",
       "1     1991\n",
       "2     1992\n",
       "3     1993\n",
       "4     1994\n",
       "5     1995\n",
       "6     1996\n",
       "7     1997\n",
       "8     1998\n",
       "9     1999\n",
       "10    2000\n",
       "11    2001\n",
       "12    2002\n",
       "13    2003\n",
       "14    2004\n",
       "15    2005\n",
       "16    2006\n",
       "17    2007\n",
       "18    2008\n",
       "19    2009\n",
       "20    2010\n",
       "21    2011\n",
       "22    2012\n",
       "23    2013\n",
       "24    2014\n",
       "25    2015\n",
       "26    2016\n",
       "27    2017\n",
       "28    2018\n",
       "29    2019\n",
       "Name: 시점, dtype: int64"
      ]
     },
     "execution_count": 7,
     "metadata": {},
     "output_type": "execute_result"
    }
   ],
   "source": [
    "datas = data[data['시점'] != 2020]\n",
    "datas['시점']"
   ]
  },
  {
   "cell_type": "code",
   "execution_count": 8,
   "metadata": {},
   "outputs": [
    {
     "name": "stdout",
     "output_type": "stream",
     "text": [
      "<class 'pandas.core.frame.DataFrame'>\n",
      "Int64Index: 30 entries, 0 to 29\n",
      "Data columns (total 94 columns):\n",
      " #   Column    Non-Null Count  Dtype  \n",
      "---  ------    --------------  -----  \n",
      " 0   시점        30 non-null     int64  \n",
      " 1   아시아       0 non-null      float64\n",
      " 2   대한민국      30 non-null     float64\n",
      " 3   아제르바이잔    30 non-null     float64\n",
      " 4   바레인       30 non-null     float64\n",
      " 5   방글라데시     30 non-null     float64\n",
      " 6   브루나이      30 non-null     float64\n",
      " 7   중국        30 non-null     float64\n",
      " 8   인도        30 non-null     float64\n",
      " 9   인도네시아     30 non-null     float64\n",
      " 10  이란        30 non-null     float64\n",
      " 11  이라크       30 non-null     float64\n",
      " 12  이스라엘      30 non-null     float64\n",
      " 13  일본        30 non-null     float64\n",
      " 14  요르단       30 non-null     float64\n",
      " 15  카자흐스탄     30 non-null     float64\n",
      " 16  쿠웨이트      30 non-null     float64\n",
      " 17  레바논       30 non-null     float64\n",
      " 18  말레이시아     30 non-null     float64\n",
      " 19  오만        30 non-null     float64\n",
      " 20  파키스탄      30 non-null     float64\n",
      " 21  필리핀       30 non-null     float64\n",
      " 22  카타르       30 non-null     float64\n",
      " 23  사우디아라비아   30 non-null     float64\n",
      " 24  시리아       30 non-null     float64\n",
      " 25  태국        30 non-null     float64\n",
      " 26  투르크메니스탄   30 non-null     float64\n",
      " 27  아랍에미리트    30 non-null     float64\n",
      " 28  우즈베키스탄    30 non-null     float64\n",
      " 29  베트남       30 non-null     float64\n",
      " 30  예멘        30 non-null     float64\n",
      " 31  북아메리카     0 non-null      float64\n",
      " 32  캐나다       30 non-null     float64\n",
      " 33  멕시코       30 non-null     float64\n",
      " 34  미국        30 non-null     float64\n",
      " 35  남아메리카     0 non-null      float64\n",
      " 36  아르헨티나     30 non-null     float64\n",
      " 37  볼리비아      30 non-null     float64\n",
      " 38  브라질       30 non-null     float64\n",
      " 39  칠레        30 non-null     float64\n",
      " 40  콜롬비아      30 non-null     float64\n",
      " 41  쿠바        30 non-null     float64\n",
      " 42  에콰도르      30 non-null     float64\n",
      " 43  파라과이      30 non-null     float64\n",
      " 44  페루        30 non-null     float64\n",
      " 45  트리니다드토바고  30 non-null     float64\n",
      " 46  우루과이      30 non-null     float64\n",
      " 47  베네수엘라     30 non-null     float64\n",
      " 48  유럽        0 non-null      float64\n",
      " 49  덴마크       30 non-null     float64\n",
      " 50  에스토니아     30 non-null     float64\n",
      " 51  프랑스       30 non-null     float64\n",
      " 52  독일        30 non-null     float64\n",
      " 53  이탈리아      30 non-null     float64\n",
      " 54  네덜란드      30 non-null     float64\n",
      " 55  노르웨이      30 non-null     float64\n",
      " 56  폴란드       30 non-null     float64\n",
      " 57  루마니아      30 non-null     float64\n",
      " 58  러시아       30 non-null     float64\n",
      " 59  슬로베니아     30 non-null     float64\n",
      " 60  스웨덴       30 non-null     float64\n",
      " 61  우크라이나     30 non-null     float64\n",
      " 62  영국        30 non-null     float64\n",
      " 63  아프리카      0 non-null      float64\n",
      " 64  알제리       30 non-null     float64\n",
      " 65  앙골라       30 non-null     float64\n",
      " 66  베냉        30 non-null     float64\n",
      " 67  보츠와나      30 non-null     float64\n",
      " 68  카메룬       30 non-null     float64\n",
      " 69  콩고        30 non-null     float64\n",
      " 70  콩고민주공화국   30 non-null     float64\n",
      " 71  코트디부아르    30 non-null     float64\n",
      " 72  이집트       30 non-null     float64\n",
      " 73  에리트레아     28 non-null     float64\n",
      " 74  에티오피아     30 non-null     float64\n",
      " 75  가봉        30 non-null     float64\n",
      " 76  가나        30 non-null     float64\n",
      " 77  케냐        30 non-null     float64\n",
      " 78  리비아       30 non-null     float64\n",
      " 79  모로코       30 non-null     float64\n",
      " 80  모잠비크      30 non-null     float64\n",
      " 81  나미비아      29 non-null     float64\n",
      " 82  니제르       30 non-null     float64\n",
      " 83  나이지리아     30 non-null     float64\n",
      " 84  세네갈       30 non-null     float64\n",
      " 85  남아프리카공화국  30 non-null     float64\n",
      " 86  남수단       8 non-null      float64\n",
      " 87  수단        30 non-null     float64\n",
      " 88  탄자니아      30 non-null     float64\n",
      " 89  토고        30 non-null     float64\n",
      " 90  튀니지       30 non-null     float64\n",
      " 91  오세아니아     0 non-null      float64\n",
      " 92  오스트레일리아   30 non-null     float64\n",
      " 93  뉴질랜드      30 non-null     float64\n",
      "dtypes: float64(93), int64(1)\n",
      "memory usage: 22.3 KB\n"
     ]
    }
   ],
   "source": [
    "datas.info()"
   ]
  },
  {
   "cell_type": "code",
   "execution_count": 9,
   "metadata": {},
   "outputs": [
    {
     "name": "stderr",
     "output_type": "stream",
     "text": [
      "<ipython-input-9-1324fae4fa63>:1: SettingWithCopyWarning: \n",
      "A value is trying to be set on a copy of a slice from a DataFrame.\n",
      "Try using .loc[row_indexer,col_indexer] = value instead\n",
      "\n",
      "See the caveats in the documentation: https://pandas.pydata.org/pandas-docs/stable/user_guide/indexing.html#returning-a-view-versus-a-copy\n",
      "  datas['아시아'] = datas[['대한민국', '아제르바이잔', '바레인', '방글라데시', '브루나이', '중국', '인도',\n",
      "<ipython-input-9-1324fae4fa63>:5: SettingWithCopyWarning: \n",
      "A value is trying to be set on a copy of a slice from a DataFrame.\n",
      "Try using .loc[row_indexer,col_indexer] = value instead\n",
      "\n",
      "See the caveats in the documentation: https://pandas.pydata.org/pandas-docs/stable/user_guide/indexing.html#returning-a-view-versus-a-copy\n",
      "  datas['북아메리카'] = datas[['캐나다', '멕시코', '미국']].sum(axis=1)\n",
      "<ipython-input-9-1324fae4fa63>:6: SettingWithCopyWarning: \n",
      "A value is trying to be set on a copy of a slice from a DataFrame.\n",
      "Try using .loc[row_indexer,col_indexer] = value instead\n",
      "\n",
      "See the caveats in the documentation: https://pandas.pydata.org/pandas-docs/stable/user_guide/indexing.html#returning-a-view-versus-a-copy\n",
      "  datas['남아메리카'] = datas[['아르헨티나', '볼리비아', '브라질', '칠레', '콜롬비아', '쿠바', '에콰도르', '파라과이', '페루',\n",
      "<ipython-input-9-1324fae4fa63>:8: SettingWithCopyWarning: \n",
      "A value is trying to be set on a copy of a slice from a DataFrame.\n",
      "Try using .loc[row_indexer,col_indexer] = value instead\n",
      "\n",
      "See the caveats in the documentation: https://pandas.pydata.org/pandas-docs/stable/user_guide/indexing.html#returning-a-view-versus-a-copy\n",
      "  datas['유럽'] = datas[['덴마크', '에스토니아', '프랑스', '독일', '이탈리아',\n",
      "<ipython-input-9-1324fae4fa63>:10: SettingWithCopyWarning: \n",
      "A value is trying to be set on a copy of a slice from a DataFrame.\n",
      "Try using .loc[row_indexer,col_indexer] = value instead\n",
      "\n",
      "See the caveats in the documentation: https://pandas.pydata.org/pandas-docs/stable/user_guide/indexing.html#returning-a-view-versus-a-copy\n",
      "  datas['아프리카'] = datas[['알제리', '앙골라', '베냉', '보츠와나', '카메룬', '콩고', '콩고민주공화국', '코트디부아르',\n",
      "<ipython-input-9-1324fae4fa63>:13: SettingWithCopyWarning: \n",
      "A value is trying to be set on a copy of a slice from a DataFrame.\n",
      "Try using .loc[row_indexer,col_indexer] = value instead\n",
      "\n",
      "See the caveats in the documentation: https://pandas.pydata.org/pandas-docs/stable/user_guide/indexing.html#returning-a-view-versus-a-copy\n",
      "  datas['오세아니아'] = datas[['오스트레일리아', '뉴질랜드']].sum(axis=1)\n"
     ]
    }
   ],
   "source": [
    "datas['아시아'] = datas[['대한민국', '아제르바이잔', '바레인', '방글라데시', '브루나이', '중국', '인도',\n",
    "       '인도네시아', '이란', '이라크', '이스라엘', '일본', '요르단', '카자흐스탄', '쿠웨이트', '레바논',\n",
    "       '말레이시아', '오만', '파키스탄', '필리핀', '카타르', '사우디아라비아', '시리아', '태국', '투르크메니스탄',\n",
    "       '아랍에미리트', '우즈베키스탄', '베트남', '예멘']].sum(axis=1)\n",
    "datas['북아메리카'] = datas[['캐나다', '멕시코', '미국']].sum(axis=1)\n",
    "datas['남아메리카'] = datas[['아르헨티나', '볼리비아', '브라질', '칠레', '콜롬비아', '쿠바', '에콰도르', '파라과이', '페루',\n",
    "       '트리니다드토바고', '우루과이', '베네수엘라']].sum(axis=1)\n",
    "datas['유럽'] = datas[['덴마크', '에스토니아', '프랑스', '독일', '이탈리아',\n",
    "       '네덜란드', '노르웨이', '폴란드', '루마니아', '러시아', '슬로베니아', '스웨덴', '우크라이나', '영국']].sum(axis=1)\n",
    "datas['아프리카'] = datas[['알제리', '앙골라', '베냉', '보츠와나', '카메룬', '콩고', '콩고민주공화국', '코트디부아르',\n",
    "       '이집트', '에리트레아', '에티오피아', '가봉', '가나', '케냐', '리비아', '모로코', '모잠비크', '나미비아',\n",
    "       '니제르', '나이지리아', '세네갈', '남아프리카공화국', '수단', '탄자니아', '토고', '튀니지']].sum(axis=1)\n",
    "datas['오세아니아'] = datas[['오스트레일리아', '뉴질랜드']].sum(axis=1)"
   ]
  },
  {
   "cell_type": "code",
   "execution_count": 10,
   "metadata": {},
   "outputs": [
    {
     "name": "stderr",
     "output_type": "stream",
     "text": [
      "<ipython-input-10-afdce38588c8>:1: SettingWithCopyWarning: \n",
      "A value is trying to be set on a copy of a slice from a DataFrame.\n",
      "Try using .loc[row_indexer,col_indexer] = value instead\n",
      "\n",
      "See the caveats in the documentation: https://pandas.pydata.org/pandas-docs/stable/user_guide/indexing.html#returning-a-view-versus-a-copy\n",
      "  datas['전체'] = datas[['아시아', '북아메리카', '남아메리카', '유럽', '아프리카', '오세아니아']].sum(axis=1)\n"
     ]
    }
   ],
   "source": [
    "datas['전체'] = datas[['아시아', '북아메리카', '남아메리카', '유럽', '아프리카', '오세아니아']].sum(axis=1)"
   ]
  },
  {
   "cell_type": "code",
   "execution_count": 11,
   "metadata": {},
   "outputs": [
    {
     "name": "stdout",
     "output_type": "stream",
     "text": [
      "<class 'pandas.core.frame.DataFrame'>\n",
      "Int64Index: 30 entries, 0 to 29\n",
      "Data columns (total 95 columns):\n",
      " #   Column    Non-Null Count  Dtype  \n",
      "---  ------    --------------  -----  \n",
      " 0   시점        30 non-null     int64  \n",
      " 1   아시아       30 non-null     float64\n",
      " 2   대한민국      30 non-null     float64\n",
      " 3   아제르바이잔    30 non-null     float64\n",
      " 4   바레인       30 non-null     float64\n",
      " 5   방글라데시     30 non-null     float64\n",
      " 6   브루나이      30 non-null     float64\n",
      " 7   중국        30 non-null     float64\n",
      " 8   인도        30 non-null     float64\n",
      " 9   인도네시아     30 non-null     float64\n",
      " 10  이란        30 non-null     float64\n",
      " 11  이라크       30 non-null     float64\n",
      " 12  이스라엘      30 non-null     float64\n",
      " 13  일본        30 non-null     float64\n",
      " 14  요르단       30 non-null     float64\n",
      " 15  카자흐스탄     30 non-null     float64\n",
      " 16  쿠웨이트      30 non-null     float64\n",
      " 17  레바논       30 non-null     float64\n",
      " 18  말레이시아     30 non-null     float64\n",
      " 19  오만        30 non-null     float64\n",
      " 20  파키스탄      30 non-null     float64\n",
      " 21  필리핀       30 non-null     float64\n",
      " 22  카타르       30 non-null     float64\n",
      " 23  사우디아라비아   30 non-null     float64\n",
      " 24  시리아       30 non-null     float64\n",
      " 25  태국        30 non-null     float64\n",
      " 26  투르크메니스탄   30 non-null     float64\n",
      " 27  아랍에미리트    30 non-null     float64\n",
      " 28  우즈베키스탄    30 non-null     float64\n",
      " 29  베트남       30 non-null     float64\n",
      " 30  예멘        30 non-null     float64\n",
      " 31  북아메리카     30 non-null     float64\n",
      " 32  캐나다       30 non-null     float64\n",
      " 33  멕시코       30 non-null     float64\n",
      " 34  미국        30 non-null     float64\n",
      " 35  남아메리카     30 non-null     float64\n",
      " 36  아르헨티나     30 non-null     float64\n",
      " 37  볼리비아      30 non-null     float64\n",
      " 38  브라질       30 non-null     float64\n",
      " 39  칠레        30 non-null     float64\n",
      " 40  콜롬비아      30 non-null     float64\n",
      " 41  쿠바        30 non-null     float64\n",
      " 42  에콰도르      30 non-null     float64\n",
      " 43  파라과이      30 non-null     float64\n",
      " 44  페루        30 non-null     float64\n",
      " 45  트리니다드토바고  30 non-null     float64\n",
      " 46  우루과이      30 non-null     float64\n",
      " 47  베네수엘라     30 non-null     float64\n",
      " 48  유럽        30 non-null     float64\n",
      " 49  덴마크       30 non-null     float64\n",
      " 50  에스토니아     30 non-null     float64\n",
      " 51  프랑스       30 non-null     float64\n",
      " 52  독일        30 non-null     float64\n",
      " 53  이탈리아      30 non-null     float64\n",
      " 54  네덜란드      30 non-null     float64\n",
      " 55  노르웨이      30 non-null     float64\n",
      " 56  폴란드       30 non-null     float64\n",
      " 57  루마니아      30 non-null     float64\n",
      " 58  러시아       30 non-null     float64\n",
      " 59  슬로베니아     30 non-null     float64\n",
      " 60  스웨덴       30 non-null     float64\n",
      " 61  우크라이나     30 non-null     float64\n",
      " 62  영국        30 non-null     float64\n",
      " 63  아프리카      30 non-null     float64\n",
      " 64  알제리       30 non-null     float64\n",
      " 65  앙골라       30 non-null     float64\n",
      " 66  베냉        30 non-null     float64\n",
      " 67  보츠와나      30 non-null     float64\n",
      " 68  카메룬       30 non-null     float64\n",
      " 69  콩고        30 non-null     float64\n",
      " 70  콩고민주공화국   30 non-null     float64\n",
      " 71  코트디부아르    30 non-null     float64\n",
      " 72  이집트       30 non-null     float64\n",
      " 73  에리트레아     28 non-null     float64\n",
      " 74  에티오피아     30 non-null     float64\n",
      " 75  가봉        30 non-null     float64\n",
      " 76  가나        30 non-null     float64\n",
      " 77  케냐        30 non-null     float64\n",
      " 78  리비아       30 non-null     float64\n",
      " 79  모로코       30 non-null     float64\n",
      " 80  모잠비크      30 non-null     float64\n",
      " 81  나미비아      29 non-null     float64\n",
      " 82  니제르       30 non-null     float64\n",
      " 83  나이지리아     30 non-null     float64\n",
      " 84  세네갈       30 non-null     float64\n",
      " 85  남아프리카공화국  30 non-null     float64\n",
      " 86  남수단       8 non-null      float64\n",
      " 87  수단        30 non-null     float64\n",
      " 88  탄자니아      30 non-null     float64\n",
      " 89  토고        30 non-null     float64\n",
      " 90  튀니지       30 non-null     float64\n",
      " 91  오세아니아     30 non-null     float64\n",
      " 92  오스트레일리아   30 non-null     float64\n",
      " 93  뉴질랜드      30 non-null     float64\n",
      " 94  전체        30 non-null     float64\n",
      "dtypes: float64(94), int64(1)\n",
      "memory usage: 22.5 KB\n"
     ]
    }
   ],
   "source": [
    "datas.info()"
   ]
  },
  {
   "cell_type": "markdown",
   "metadata": {},
   "source": [
    "### 1990-2019년 대륙별 온실가스 배출량 변화"
   ]
  },
  {
   "cell_type": "code",
   "execution_count": 12,
   "metadata": {},
   "outputs": [
    {
     "data": {
      "image/png": "[encoded data removed]",
      "text/plain": [
       "<Figure size 864x576 with 1 Axes>"
      ]
     },
     "metadata": {
      "needs_background": "light"
     },
     "output_type": "display_data"
    }
   ],
   "source": [
    "x = datas['시점']\n",
    "plt.figure(figsize=(12, 8))\n",
    "\n",
    "\n",
    "plt.plot(x, datas['아시아'], label=\"Asia\")\n",
    "plt.plot(x, datas['북아메리카'], label=\"North\")\n",
    "plt.plot(x, datas['남아메리카'], label=\"South\")\n",
    "plt.plot(x, datas['유럽'], label=\"Europe\")\n",
    "plt.plot(x, datas['아프리카'], label=\"Africa\")\n",
    "plt.plot(x, datas['오세아니아'], label=\"Oceania\")\n",
    "plt.plot(x, datas['전체'], label=\"Total\")\n",
    "\n",
    "\n",
    "plt.legend()\n",
    "plt.ylabel('Million Ton')\n",
    "\n",
    "\n",
    "plt.show()"
   ]
  },
  {
   "cell_type": "code",
   "execution_count": null,
   "metadata": {},
   "outputs": [],
   "source": []
  },
  {
   "cell_type": "code",
   "execution_count": 24,
   "metadata": {},
   "outputs": [],
   "source": [
    "continent = datas[['아시아', '북아메리카', '남아메리카', '유럽', '아프리카', '오세아니아','전체']]\n",
    "continent.to_json('1990-2019년 대륙별 온실가스 배출량 변화.xlsx', force_ascii=False)"
   ]
  },
  {
   "cell_type": "markdown",
   "metadata": {},
   "source": [
    "### 1990-2020년 한국 온실가스 배출량 변화"
   ]
  },
  {
   "cell_type": "code",
   "execution_count": 13,
   "metadata": {},
   "outputs": [
    {
     "data": {
      "image/png": "[encoded data removed]",
      "text/plain": [
       "<Figure size 864x576 with 1 Axes>"
      ]
     },
     "metadata": {
      "needs_background": "light"
     },
     "output_type": "display_data"
    }
   ],
   "source": [
    "time = data['시점']\n",
    "plt.figure(figsize=(12, 8))\n",
    "plt.plot(time, data['대한민국'], label=\"Korea\")\n",
    "plt.legend()\n",
    "plt.ylabel('Million Ton')\n",
    "\n",
    "\n",
    "plt.show()"
   ]
  },
  {
   "cell_type": "code",
   "execution_count": 28,
   "metadata": {},
   "outputs": [],
   "source": [
    "korea = data['대한민국']\n",
    "korea.to_json(\"1990-2020년 우리나라 온실가스 배출량 변화.json\", force_ascii=False)"
   ]
  },
  {
   "cell_type": "code",
   "execution_count": 14,
   "metadata": {},
   "outputs": [],
   "source": [
    "dataset = datas.drop(['아시아', '북아메리카', '남아메리카', '유럽', '아프리카', '오세아니아','남수단', '전체'], axis=1)"
   ]
  },
  {
   "cell_type": "code",
   "execution_count": 15,
   "metadata": {},
   "outputs": [
    {
     "data": {
      "image/png": "[encoded data removed]",
      "text/plain": [
       "<Figure size 1440x1080 with 1 Axes>"
      ]
     },
     "metadata": {
      "needs_background": "light"
     },
     "output_type": "display_data"
    }
   ],
   "source": [
    "plt.figure(figsize=(20, 15))\n",
    "from matplotlib import font_manager, rc\n",
    "font_path = \"C:/Windows/Fonts/H2GTRM.TTF\"\n",
    "font = font_manager.FontProperties(fname=font_path).get_name()\n",
    "rc('font', family=font)\n",
    "plt.rc('font', size = 15)\n",
    "\n",
    "# dataset = dataset.drop(['시점'], axis=1)\n",
    "sort = dataset.sort_values(by=29, axis=1, ascending=True)\n",
    "sort = sort.T\n",
    "sort['index'] = sort.index.to_list()\n",
    "sort = sort[-15:]\n",
    "plt.barh(sort['index'], sort[29])\n",
    "plt.xlabel('Millon ton')\n",
    "\n",
    "plt.show()"
   ]
  }
 ],
 "metadata": {
  "kernelspec": {
   "display_name": "Python 3.9.13 64-bit",
   "language": "python",
   "name": "python3"
  },
  "language_info": {
   "codemirror_mode": {
    "name": "ipython",
    "version": 3
   },
   "file_extension": ".py",
   "mimetype": "text/x-python",
   "name": "python",
   "nbconvert_exporter": "python",
   "pygments_lexer": "ipython3",
   "version": "3.9.13"
  },
  "orig_nbformat": 4,
  "vscode": {
   "interpreter": {
    "hash": "ab8d6829731b96c6e4c2208664d4afe6b58ff0a3462361839ed43e03f05ae3d8"
   }
  }
 },
 "nbformat": 4,
 "nbformat_minor": 2
}
