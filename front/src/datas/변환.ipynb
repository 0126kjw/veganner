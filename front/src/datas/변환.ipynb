{
 "cells": [
  {
   "cell_type": "code",
   "execution_count": 2,
   "metadata": {},
   "outputs": [],
   "source": [
    "import pandas as pd"
   ]
  },
  {
   "cell_type": "code",
   "execution_count": 3,
   "metadata": {},
   "outputs": [],
   "source": [
    "data = pd.read_csv(\"seoul.csv\")"
   ]
  },
  {
   "cell_type": "markdown",
   "metadata": {},
   "source": [
    "### data 추출하기\n",
    "1) 여러 컬럼 중 필요한 것만 추출\n"
   ]
  },
  {
   "cell_type": "code",
   "execution_count": 4,
   "metadata": {},
   "outputs": [
    {
     "data": {
      "text/html": [
       "<div>\n",
       "<style scoped>\n",
       "    .dataframe tbody tr th:only-of-type {\n",
       "        vertical-align: middle;\n",
       "    }\n",
       "\n",
       "    .dataframe tbody tr th {\n",
       "        vertical-align: top;\n",
       "    }\n",
       "\n",
       "    .dataframe thead th {\n",
       "        text-align: right;\n",
       "    }\n",
       "</style>\n",
       "<table border=\"1\" class=\"dataframe\">\n",
       "  <thead>\n",
       "    <tr style=\"text-align: right;\">\n",
       "      <th></th>\n",
       "      <th>업소 명</th>\n",
       "      <th>자치구 명</th>\n",
       "      <th>업태 명</th>\n",
       "      <th>식품인증 구분명</th>\n",
       "      <th>지도 Y좌표</th>\n",
       "      <th>지도 X좌표</th>\n",
       "      <th>전화번호</th>\n",
       "      <th>도로명주소</th>\n",
       "    </tr>\n",
       "  </thead>\n",
       "  <tbody>\n",
       "    <tr>\n",
       "      <th>0</th>\n",
       "      <td>퀴즈노스 (LG트윈)</td>\n",
       "      <td>영등포구</td>\n",
       "      <td>양식</td>\n",
       "      <td>채식가능음식점</td>\n",
       "      <td>37.527671</td>\n",
       "      <td>126.928672</td>\n",
       "      <td>02-3773-1276</td>\n",
       "      <td>서울특별시 영등포구 여의대로 128 지하1층</td>\n",
       "    </tr>\n",
       "    <tr>\n",
       "      <th>1</th>\n",
       "      <td>본죽 사당점</td>\n",
       "      <td>동작구</td>\n",
       "      <td>한식</td>\n",
       "      <td>채식가능음식점</td>\n",
       "      <td>37.480418</td>\n",
       "      <td>126.981391</td>\n",
       "      <td>02-3474-4949</td>\n",
       "      <td>서울특별시 동작구 동작대로 43 (사당동)  호진빌딩 1층</td>\n",
       "    </tr>\n",
       "    <tr>\n",
       "      <th>2</th>\n",
       "      <td>본 죽&amp;비빔밥 이수점</td>\n",
       "      <td>동작구</td>\n",
       "      <td>한식</td>\n",
       "      <td>채식가능음식점</td>\n",
       "      <td>37.487431</td>\n",
       "      <td>126.980674</td>\n",
       "      <td>02-534-6388</td>\n",
       "      <td>서울특별시 동작구 동작대로27길 23 (사당동)</td>\n",
       "    </tr>\n",
       "    <tr>\n",
       "      <th>3</th>\n",
       "      <td>본 죽&amp;비빔밥 노량진점</td>\n",
       "      <td>동작구</td>\n",
       "      <td>한식</td>\n",
       "      <td>채식가능음식점</td>\n",
       "      <td>37.510811</td>\n",
       "      <td>126.944466</td>\n",
       "      <td>02-3280-6288</td>\n",
       "      <td>서울특별시 동작구 만양로 81 (노량진동 문화독서실)</td>\n",
       "    </tr>\n",
       "    <tr>\n",
       "      <th>4</th>\n",
       "      <td>본 죽&amp;비빔밥 보라매점</td>\n",
       "      <td>동작구</td>\n",
       "      <td>한식</td>\n",
       "      <td>채식가능음식점</td>\n",
       "      <td>37.491365</td>\n",
       "      <td>126.923344</td>\n",
       "      <td>02-849-8814</td>\n",
       "      <td>서울특별시 동작구 보라매로5길 43 (신대방동 보라매삼성쉐르빌) 105호</td>\n",
       "    </tr>\n",
       "  </tbody>\n",
       "</table>\n",
       "</div>"
      ],
      "text/plain": [
       "           업소 명 자치구 명 업태 명 식품인증 구분명     지도 Y좌표      지도 X좌표          전화번호  \\\n",
       "0   퀴즈노스 (LG트윈)  영등포구   양식  채식가능음식점  37.527671  126.928672  02-3773-1276   \n",
       "1        본죽 사당점   동작구   한식  채식가능음식점  37.480418  126.981391  02-3474-4949   \n",
       "2   본 죽&비빔밥 이수점   동작구   한식  채식가능음식점  37.487431  126.980674   02-534-6388   \n",
       "3  본 죽&비빔밥 노량진점   동작구   한식  채식가능음식점  37.510811  126.944466  02-3280-6288   \n",
       "4  본 죽&비빔밥 보라매점   동작구   한식  채식가능음식점  37.491365  126.923344   02-849-8814   \n",
       "\n",
       "                                      도로명주소  \n",
       "0                  서울특별시 영등포구 여의대로 128 지하1층  \n",
       "1          서울특별시 동작구 동작대로 43 (사당동)  호진빌딩 1층  \n",
       "2               서울특별시 동작구 동작대로27길 23 (사당동)   \n",
       "3            서울특별시 동작구 만양로 81 (노량진동 문화독서실)   \n",
       "4  서울특별시 동작구 보라매로5길 43 (신대방동 보라매삼성쉐르빌) 105호  "
      ]
     },
     "execution_count": 4,
     "metadata": {},
     "output_type": "execute_result"
    }
   ],
   "source": [
    "seoul = data[['업소 명', '자치구 명', '업태 명', '식품인증 구분명', '지도 Y좌표', '지도 X좌표','전화번호', '도로명주소']]\n",
    "seoul.head()"
   ]
  },
  {
   "cell_type": "markdown",
   "metadata": {},
   "source": [
    "2) 컬럼명 영어로 바꾸기"
   ]
  },
  {
   "cell_type": "code",
   "execution_count": 5,
   "metadata": {},
   "outputs": [
    {
     "data": {
      "text/plain": [
       "Index(['name', 'borough', 'industry', 'food', 'y', 'x', 'number', 'location'], dtype='object')"
      ]
     },
     "execution_count": 5,
     "metadata": {},
     "output_type": "execute_result"
    }
   ],
   "source": [
    "seoul.columns = ['name', 'borough', 'industry', 'food', 'y', 'x','number', 'location']\n",
    "seoul.columns"
   ]
  },
  {
   "cell_type": "markdown",
   "metadata": {},
   "source": [
    "3) 채식관련 음식점만 추출"
   ]
  },
  {
   "cell_type": "code",
   "execution_count": 6,
   "metadata": {},
   "outputs": [],
   "source": [
    "seoul = seoul[(seoul['food']=='채식가능음식점') | (seoul['food'] == '채식음식점')]"
   ]
  },
  {
   "cell_type": "code",
   "execution_count": 7,
   "metadata": {},
   "outputs": [
    {
     "data": {
      "text/plain": [
       "array(['양식', '한식', '카페', '분식', '동남아', '술집', '베이커리', '인도/중동', '까페', '중국식'],\n",
       "      dtype=object)"
      ]
     },
     "execution_count": 7,
     "metadata": {},
     "output_type": "execute_result"
    }
   ],
   "source": [
    "seoul['food'].unique()\n",
    "seoul['industry'].unique()"
   ]
  },
  {
   "cell_type": "code",
   "execution_count": 8,
   "metadata": {},
   "outputs": [],
   "source": [
    "seoul = seoul.replace({'food':'채식가능음식점'}, '채식 가능')\n",
    "seoul = seoul.replace({'food':'채식음식점'}, '채식 전문')"
   ]
  },
  {
   "cell_type": "code",
   "execution_count": 18,
   "metadata": {},
   "outputs": [],
   "source": [
    "seoul['number'].fillna('정보 없음', inplace=True)"
   ]
  },
  {
   "cell_type": "markdown",
   "metadata": {},
   "source": [
    "4) 까페를 카페로 통일"
   ]
  },
  {
   "cell_type": "code",
   "execution_count": 10,
   "metadata": {},
   "outputs": [
    {
     "data": {
      "text/plain": [
       "array(['양식', '한식', '카페', '분식', '동남아', '술집', '베이커리', '인도/중동', '중국식'],\n",
       "      dtype=object)"
      ]
     },
     "execution_count": 10,
     "metadata": {},
     "output_type": "execute_result"
    }
   ],
   "source": [
    "seoul = seoul.replace({'industry': '까페'}, '카페')\n",
    "seoul['industry'].unique()"
   ]
  },
  {
   "cell_type": "markdown",
   "metadata": {},
   "source": [
    "5) csv를 json으로 저장"
   ]
  },
  {
   "cell_type": "code",
   "execution_count": 20,
   "metadata": {},
   "outputs": [],
   "source": [
    "seoul.to_json(\"seoul.json\", force_ascii=False, orient='table')"
   ]
  },
  {
   "cell_type": "code",
   "execution_count": 19,
   "metadata": {},
   "outputs": [
    {
     "data": {
      "text/plain": [
       "0"
      ]
     },
     "execution_count": 19,
     "metadata": {},
     "output_type": "execute_result"
    }
   ],
   "source": [
    "seoul['number'].isnull().sum()"
   ]
  },
  {
   "cell_type": "code",
   "execution_count": 12,
   "metadata": {},
   "outputs": [
    {
     "data": {
      "text/plain": [
       "array(['영등포구', '동작구', '종로구', '서초구', '양천구', '관악구', '강서구', '구로구', '금천구',\n",
       "       '중구', '용산구', '은평구', '성동구', '광진구', '동대문구', '중랑구', '성북구', '강북구',\n",
       "       '강동구', '송파구', '도봉구', '강남구', '노원구', '서대문구', '마포구'], dtype=object)"
      ]
     },
     "execution_count": 12,
     "metadata": {},
     "output_type": "execute_result"
    }
   ],
   "source": [
    "seoul['borough'].unique()"
   ]
  }
 ],
 "metadata": {
  "kernelspec": {
   "display_name": "Python 3.9.13 64-bit",
   "language": "python",
   "name": "python3"
  },
  "language_info": {
   "codemirror_mode": {
    "name": "ipython",
    "version": 3
   },
   "file_extension": ".py",
   "mimetype": "text/x-python",
   "name": "python",
   "nbconvert_exporter": "python",
   "pygments_lexer": "ipython3",
   "version": "3.9.13"
  },
  "orig_nbformat": 4,
  "vscode": {
   "interpreter": {
    "hash": "ab8d6829731b96c6e4c2208664d4afe6b58ff0a3462361839ed43e03f05ae3d8"
   }
  }
 },
 "nbformat": 4,
 "nbformat_minor": 2
}
